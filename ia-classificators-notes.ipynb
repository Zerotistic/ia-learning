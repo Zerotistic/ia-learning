import numpy as np
from sklearn.datasets import fetch_openml
from sklearn.linear_model import SGDClassifier
from sklearn.model_selection import cross_val_score, cross_val_predict
from sklearn.base import BaseEstimator 
from sklearn.metrics import confusion_matrix, precision_score, recall_score, f1_score, roc_curve, roc_auc_score
from sklearn.ensemble import RandomForestClassifier
from sklearn.svm import SVC
from sklearn.multiclass import OneVsRestClassifier
from sklearn.preprocessing import StandardScaler
import matplotlib.pyplot as plt
import matplotlib as mpl

# fetch MNIST datasets
mnist = fetch_openml('mnist_784', version=1)
# shows dictionnary structur
mnist.keys()
# DESCR key describe the dataset
# data key contain an array with one row per instance and one column per feature
# target key contain an array with the labels

X, y = mnist["data"], mnist["target"]
X.shape
y.shape
# (70000, 784)
# (70000,)
# This means there's 70000 images, and each image has 784 features
some_digit = X.to_numpy()[0]
# we now need to create our separate sets, for training and testing
# this dataset already provides us the two of them
X_train, X_test, y_train, y_test = X[:60000], X[60000:], y[:60000], y[60000:]
# since most ML algorithms expect numbers, we cast y to integer
y_train = y_train.astype(np.int8)
# let's try to identify only one digit, here it'll be 5
y_train_5 = (y_train == 5)
y_test_5 = (y_test == 5)
# we now need a classifier, a good start could be a Stochastic Gradient Descent
# this classifier has the advantage of being capable of handling very large datasets efficiently
# this is because SGD deals with training instances independently, one at a time

sgd_clf = SGDClassifier(random_state=42)
sgd_clf.fit(X_train, y_train_5)
sgd_clf.predict([some_digit])


#########################################################################################
#                                                                                       #
#                                                                                       #
#                            Implementing Cross-Validation                              #
#                                                                                       #
#                                                                                       #
#########################################################################################


# The following code does roughly the same thing as Scikit-Learn's cross_val_score() function, and it prints the same result
# from sklearn.model_selection import StratifiedKFold
# from sklearn.base import clone
# 
# skfolds = StratifiedKFold(n_splits=3, random_state=42, shuffle=True)
# 
# for train_index, test_index in skfolds.split(X_train, y_train_5):
#     clone_clf = clone(sgd_clf)
#     X_train_folds = X_train[train_index]
#     y_train_fold = y_train_5[train_index]
#     X_test_fold = X_train[test_index]
#     y_test_fold = y_train_5[test_index]
# 
#     clone_clf.fit(X_train_folds, y_train_fold)
#     y_pred = clone_clf.predict(X_test_fold)
#     n_correct = sum(y_pred == y_test_fold)
#     print(n_correct / len(y_pred))
# 

# Let's use the cross_val_scores() function to evaluate SGDClassifire model, using K-fold cross-validation with three folds
cross_val_score(sgd_clf, X_train, y_train_5, cv=3, scoring="accuracy")
# with an astonishing 95% of correct precision, we should look at a very dumb classifier that just classifies every single image in the "not-5" class
class Never5Classifier(BaseEstimator):
    def fit(self, X, y=None):
        return self
    def predict(self, X):
        return np.zeros((len(X),1), dtype=bool)

never_5_clf = Never5Classifier()
cross_val_score(never_5_clf, X_train, y_train_5, cv=3, scoring="accuracy")
# this model accuracy is over 90%? this is because only about 10% of the images are 5s, so if you always guess that an image is NOT a 5
# you will be right about 90% of the time 
# This is why accuracy is generally not the preferred performance measure for classifiers

# so we could use confusion matrix
# basically you count the number of times instances of class A are classified as class B
y_train_pred = cross_val_predict(sgd_clf, X_train, y_train_5, cv=3)
confusion_matrix(y_train_5, y_train_pred) 
# each row in a confusion matrix represents an actual class, while each column represents a predicted class
# the confusion matrix gives you a lot of information, but sometimes you may prefer a more concise metric
# a good one to look at is the accuracy of the positive prediction, it's called the precision
# precision = TP/(TP+FP)
# TP is the number of true positives, and FP is the number of false positives
# 
# Precision is typically used along another metric called recall
# recall = TP/(TP+FN)
# FN is false negatives
precision_score(y_train_5, y_train_pred)
recall_score(y_train_5, y_train_pred)
# so in fact, your model is only correct around 70% of the time, and detects only 3/4 of the 5s
# it is convenient to have a single metric, that combine precision and recall
# so we'll use f1_score
# this is a harmonic mean of precision and recall
# F1 = 2/(1/precision)+(1/recall)
f1_score(y_train_5, y_train_pred)

# if we want to know what threshold to use for a better precision we can do the following
y_scores = sgd_clf.decision_function([some_digit])
from sklearn.metrics import precision_recall_curve
precisions, recalls, thresholds = precision_recall_curve(y_train_5, y_scores)


def plot_precision_recall_vs_thresold(precisions, recalls, thresolds):
    plt.plot(thresholds, precisions[:-1], "b--", label="Precision")
    plt.plot(thresholds, recalls[:-1], "g-", label="Recall")

plot_precision_recall_vs_thresold(precisions, recalls, thresholds)
plt.show()

# now let's say we want a 90% precision classificator
threshold_90_precision = thresholds[np.argmax(precisions >= 0.90)]
y_train_pred_90 = (y_scores >= threshold_90_precision)
recall_score(y_train_5, y_train_pred_90)
# great we ha ve 90% precision classificator! but... it's recall is really low, so isn't very useful


#########################################################################################
#                                                                                       #
#                                                                                       #
#                                     The ROC Curve                                     #
#                                                                                       #
#                                                                                       #
#########################################################################################

# The receiver operating characteristic (ROC) curve is another common tool used with binary classifiers
# it's similar to precision/recall curve, but instead the ROC curve plots the true positive rate against the false positive rate 
# the ROC curve plots sensitivity (recall) vs 1 (specificity)                   

fpr, tpr, thresholds = roc_curve(y_train_5, y_scores)

def plot_roc_curve(fpr, tpr, label=None):
    plt.plot(fpr, tpr, linewidth=2, label=label)
    plt.plot([0, 1], [0, 1], "k--")

plot_roc_curve(fpr, tpr)
plt.show()

# one way to compare the classifiers is to measure the area under the curve (AUC)
# a perfect classifier will have a ROC AUC equal to 1
roc_auc_score(y_train_5, y_scores)

# let's train a RandomForestClassifier and compare its ROC curve and ROC AUC score to those of the SGDClassifier
forest_clf = RandomForestClassifier(random_state=42)
y_probas_forest = cross_val_predict(forest_clf, X_train, y_train_5, cv=3, method="predict_proba")
y_scores_forest = y_probas_forest[:, 1]
fpr_forest = tpr_forest, thresholds_forest = roc_curve(y_train_5, y_scores_forest)

plt.plot(fpr, tpr, "b:", label="SDG")
plot_roc_curve(fpr_forest, tpr_forest, "Random Forest")
plt.legend(loc="lower right")
plt.show()


#########################################################################################
#                                                                                       #
#                                                                                       #
#                               MULTICLASS CLASSIFICATION                               #
#                                                                                       #
#                                                                                       #
#########################################################################################

# let's try a Support Vector Machine classifier
svm_clf = SVC()
svm_clf.fit(X_train, y_train)
svm_clf.predict([some_digit])
# it returns 10 scores per instance; one score per class
some_digit_scores = svm_clf.decision_function([some_digit])
some_digit_scores

np.argmax(some_digit_scores)
svm_clf.classes_
svm_clf.classes_[5]
# if you want to force Scikit-Learn to use OvO or OvR you can use the OneVsOneClassifier or OneVsRestClassifier classes
# simply create an instance and pass a classifier to its constructor
ovr_clf = OneVsRestClassifier(SVC())
ovr_clf.fit(X_train, y_train)
ovr_clf.predict([some_digit])

scaler = StandardScaler()
X_train_scaled = scaler.fit_transform(X_train.astype(np.float64))
cross_val_score(sgd_clf, X_train_scaled, y_train, cv=3, scoring="accuracy")

y_train_pred = cross_val_predict(sgd_clf, X_train_scaled, y_train, cv=3)
conf_mx = confusion_matrix(y_train, y_train_pred)
conf_mx
# 
plt.matshow(conf_mx, cmap=plt.cm.gray)
plt.show()

row_sums = conf_mx.sum(axis=1, keepdims=True)
norm_conf_mx = conf_mx / row_sums

np.fill_diagonal(norm_conf_mx, 0)
plt.matshow(norm_conf_mx, cmap=plt.cm.gray)
plt.show()

from sklearn.neighbors import KNeighborsClassifier

y_train_large = (y_train >= 7)
y_train_odd = (y_train % 2 == 1)
y_multilabel = np.c_[y_train_large, y_train_odd]

knn_clf = KNeighborsClassifier()
knn_clf.fit(X_train, y_multilabel)

knn_clf.predict([some_digit])

y_train_knn_pred = cross_val_predict(knn_clf, X_train, y_multilabel, cv=3)
f1_score(y_multilabel, y_train_knn_pred, average="macro")



###########################################################################################################################
###########################################################################################################################
###########################################################################################################################
###########################################################################################################################
###########################################################################################################################


# here i'm taking a picture from the test set (yes) and add noise
# then i pass it to my knn algorithm implementation and see the result
# gotta say it works well
noise = np.random.randint(0, 100, (len(X_train), 784))
X_train_mod = X_train + noise
noise = np.random.randint(0, 100, (len(X_test), 784))
X_test_mod = X_test + noise
y_train_mod = X_train
y_test_mod = X_test

def plot_digit(data):
    image = data.reshape(28, 28)
    plt.imshow(image, cmap = mpl.cm.binary,
               interpolation="nearest")
    plt.axis("off")

some_index = 0
plt.subplot(121); plot_digit(X_test_mod.to_numpy()[some_index])
plt.subplot(122); plot_digit(y_test_mod.to_numpy()[some_index])
plt.show()

knn_clf.fit(X_train_mod, y_train_mod)
clean_digit = knn_clf.predict([X_test_mod.to_numpy()[some_index]])
plot_digit(clean_digit)
plt.show()
